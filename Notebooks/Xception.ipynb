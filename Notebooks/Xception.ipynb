{
  "nbformat": 4,
  "nbformat_minor": 0,
  "metadata": {
    "colab": {
      "name": "Xception.ipynb",
      "version": "0.3.2",
      "provenance": [],
      "toc_visible": true
    },
    "kernelspec": {
      "name": "python3",
      "display_name": "Python 3"
    },
    "accelerator": "GPU"
  },
  "cells": [
    {
      "cell_type": "markdown",
      "metadata": {
        "id": "BFHEpYoi0NiP",
        "colab_type": "text"
      },
      "source": [
        "# Xception para diagnóstico de IDC em imagens histológicas:\n",
        "\n",
        "## Autor: Otávio A M Guerra"
      ]
    },
    {
      "cell_type": "markdown",
      "metadata": {
        "id": "fF15530S0esw",
        "colab_type": "text"
      },
      "source": [
        "## Import das bibliotecas necessárias:"
      ]
    },
    {
      "cell_type": "code",
      "metadata": {
        "id": "iOkHpoaryc9m",
        "colab_type": "code",
        "outputId": "ff9c4fa8-d4fe-41d7-ae30-ba247317972f",
        "colab": {
          "base_uri": "https://localhost:8080/",
          "height": 144
        }
      },
      "source": [
        "#!pip install -U tensorboardcolab\n",
        "#!pip install image-classifiers\n",
        "import cv2\n",
        "import numpy as np\n",
        "from tensorflow import keras\n",
        "import matplotlib.pyplot as plt\n",
        "import tensorflow as tf\n",
        "from tensorboardcolab import *\n",
        "from keras.utils import Sequence\n",
        "from google.colab import drive\n",
        "drive.mount('/content/drive')\n",
        "\n",
        "# Import das bibliotecas de construcao da rede neural\n",
        "from keras.preprocessing.image import ImageDataGenerator\n",
        "from sklearn.metrics import classification_report\n",
        "import matplotlib\n",
        "matplotlib.use(\"Agg\")"
      ],
      "execution_count": 1,
      "outputs": [
        {
          "output_type": "stream",
          "text": [
            "Using TensorFlow backend.\n"
          ],
          "name": "stderr"
        },
        {
          "output_type": "stream",
          "text": [
            "Go to this URL in a browser: https://accounts.google.com/o/oauth2/auth?client_id=947318989803-6bn6qk8qdgf4n4g3pfee6491hc0brc4i.apps.googleusercontent.com&redirect_uri=urn%3Aietf%3Awg%3Aoauth%3A2.0%3Aoob&scope=email%20https%3A%2F%2Fwww.googleapis.com%2Fauth%2Fdocs.test%20https%3A%2F%2Fwww.googleapis.com%2Fauth%2Fdrive%20https%3A%2F%2Fwww.googleapis.com%2Fauth%2Fdrive.photos.readonly%20https%3A%2F%2Fwww.googleapis.com%2Fauth%2Fpeopleapi.readonly&response_type=code\n",
            "\n",
            "Enter your authorization code:\n",
            "··········\n",
            "Mounted at /content/drive\n"
          ],
          "name": "stdout"
        }
      ]
    },
    {
      "cell_type": "markdown",
      "metadata": {
        "id": "FwkJ5hEk2xmr",
        "colab_type": "text"
      },
      "source": [
        "## Definindo função que lerá as imagens dos arquivos csv em batches para entrada na rede:"
      ]
    },
    {
      "cell_type": "code",
      "metadata": {
        "id": "VOdSrPT9XEdY",
        "colab_type": "code",
        "colab": {}
      },
      "source": [
        "def csv_image_generator(inputPath, bs, mode=\"train\", aug=None):\n",
        "\t# Abre o arquivo csv para leitura\n",
        "\tf = open(inputPath, \"r\")\n",
        "\n",
        "\t# Loop infinito\n",
        "\twhile True:\n",
        "\t\t# Inicializa vetores de imagens e classes\n",
        "\t\timages = []\n",
        "\t\tlabels = []\n",
        "\n",
        "\t\t# Loop ate atingir o BatchSize\n",
        "\t\twhile len(images) < bs:\n",
        "\t\t\t# Lê a proxima linha do CSV\n",
        "\t\t\tline = f.readline()\n",
        "\n",
        "\t\t\t# Se a linha tiver vazia isso indica que chegamos ao\n",
        "\t\t\t# fim do arquivo\n",
        "\t\t\tif line == \"\":\n",
        "\t\t\t\t# Reseta o ponteiro do arquivo para o inicio\n",
        "\t\t\t\t# e lê novamente a primeira linha\n",
        "\t\t\t\tf.seek(0)\n",
        "\t\t\t\tline = f.readline()\n",
        "\n",
        "\t\t\t\t# Se estamos avaliando entao temos que sair do loop\n",
        "\t\t\t\t# para garantirmos que nao avaliaremos o modelo 2 vezes\n",
        "\t\t\t\t# em amostras do inicio do arquivo\n",
        "\t\t\t\tif mode == \"eval\":\n",
        "\t\t\t\t\tbreak\n",
        "\n",
        "\t\t\t# Extrai a classe da imagem e constroi a mesma\n",
        "\t\t\tline = line.strip().split(\",\")\n",
        "\t\t\tlabel = int(line[0])\n",
        "\t\t\timage = np.array([int(x) for x in line[1:]], dtype=\"uint8\")\n",
        "\t\t\timage = image.reshape((50, 50, 3))\n",
        "\t\t\timage = cv2.resize(image,(75, 75), interpolation = cv2.INTER_CUBIC)\n",
        "\n",
        "\t\t\t# Atualiza as listas do Batch\n",
        "\t\t\timages.append(image)\n",
        "\t\t\tlabels.append(label)\n",
        "\n",
        "\t\t# Trata parametro de Data Augmentation\n",
        "\t\tif aug is not None:\n",
        "\t\t\t(images, labels) = next(aug.flow(np.array(images),\n",
        "\t\t\t\tlabels, batch_size=bs))\n",
        "\n",
        "\t\t# yield the batch to the calling function\n",
        "\t\tyield (np.array(images), labels)"
      ],
      "execution_count": 0,
      "outputs": []
    },
    {
      "cell_type": "markdown",
      "metadata": {
        "id": "4QM6m3PL4EOt",
        "colab_type": "text"
      },
      "source": [
        "## Definindo variaveis e caminhos dos arquivos:"
      ]
    },
    {
      "cell_type": "code",
      "metadata": {
        "id": "wyoPJ3d13_6w",
        "colab_type": "code",
        "colab": {}
      },
      "source": [
        "# Path dos CSV's\n",
        "TRAIN_CSV = \"/content/drive/My Drive/TCC/Projeto/dataset/IDC_training.csv\"\n",
        "TEST_CSV = \"/content/drive/My Drive/TCC/Projeto/dataset/IDC_test.csv\"\n",
        "VAL_CSV = \"/content/drive/My Drive/TCC/Projeto/dataset/IDC_validation.csv\"\n",
        "\n",
        "# Numero de Epocas e Batch Size\n",
        "NUM_EPOCHS = 10\n",
        "BS = 128\n",
        "\n",
        "# Taxa de Aprendizado (Learning Rate)\n",
        "INIT_LR = 0.0001\n",
        "\n",
        "# Inicializa variaveis de tamanho dos conjuntos\n",
        "NUM_TRAIN_IMAGES = 0\n",
        "NUM_TEST_IMAGES = 0\n",
        "NUM_VAL_IMAGES = 0\n",
        "\n",
        "# Abre o csv de treinamento e define um conjunto com as classes\n",
        "# e as labels do conjunto de treino e teste\n",
        "f = open(TRAIN_CSV, \"r\")\n",
        "labels = set()\n",
        "testLabels = []\n",
        "trainLabels = []\n",
        "\n",
        "# loop no CSV de treinamento\n",
        "for line in f:\n",
        "    # Extrai a label da classe, atualiza a lista de labels e incrementa\n",
        "    # o numero total de imagens de treino\n",
        "    label = line.strip().split(\",\")[0]\n",
        "    labels.add(label)\n",
        "    trainLabels.append(label)\n",
        "    NUM_TRAIN_IMAGES += 1\n",
        "\n",
        "# Fecha CSV de treino e abre CSV de teste\n",
        "f.close()\n",
        "f = open(TEST_CSV, \"r\")\n",
        "\n",
        "# loop no CSV de teste\n",
        "for line in f:\n",
        "\t# Extrai a label da classe, atualiza a lista de labels e incrementa\n",
        "\t# o numero total de imagens de teste\n",
        "\tlabel = int(line.strip().split(\",\")[0])\n",
        "\ttestLabels.append(label)\n",
        "\tNUM_TEST_IMAGES += 1\n",
        "\n",
        "# Fecha o CSV de Teste\n",
        "f.close()"
      ],
      "execution_count": 0,
      "outputs": []
    },
    {
      "cell_type": "markdown",
      "metadata": {
        "id": "VFLYXjAb7h1D",
        "colab_type": "text"
      },
      "source": [
        "## Construindo o \"gerador\" de imagens:"
      ]
    },
    {
      "cell_type": "code",
      "metadata": {
        "id": "04rWAYbG4Q69",
        "colab_type": "code",
        "colab": {}
      },
      "source": [
        "aug = ImageDataGenerator(rotation_range=20, zoom_range=0.15,\n",
        "\twidth_shift_range=0.2, height_shift_range=0.2, shear_range=0.15,\n",
        "\thorizontal_flip=True, fill_mode=\"nearest\")\n",
        "\n",
        "#test_aug = ImageDataGenerator(rescale = 1./255)\n",
        "\n",
        "# Inicializa geradores de Treino e Teste\n",
        "trainGen = csv_image_generator(TRAIN_CSV, BS, mode=\"train\", aug=aug)\n",
        "testGen = csv_image_generator(TEST_CSV, BS, mode=\"train\", aug=None)"
      ],
      "execution_count": 0,
      "outputs": []
    },
    {
      "cell_type": "markdown",
      "metadata": {
        "id": "x_G-T-h7gP_T",
        "colab_type": "text"
      },
      "source": [
        "## Lidando com o desbalanceamento do conjunto de treinamento:"
      ]
    },
    {
      "cell_type": "code",
      "metadata": {
        "id": "0-gh4InggU_3",
        "colab_type": "code",
        "colab": {}
      },
      "source": [
        "from keras.utils import np_utils\n",
        "trainLabels = np_utils.to_categorical(trainLabels)\n",
        "classTotals = trainLabels.sum(axis=0)\n",
        "classWeight = classTotals.max() / classTotals"
      ],
      "execution_count": 0,
      "outputs": []
    },
    {
      "cell_type": "markdown",
      "metadata": {
        "id": "3AlIofld8zpG",
        "colab_type": "text"
      },
      "source": [
        "## Importação e definição do modelo Xception:"
      ]
    },
    {
      "cell_type": "code",
      "metadata": {
        "id": "TTf_cjQy-A0Z",
        "colab_type": "code",
        "outputId": "664816f9-df93-4bcc-88cd-ee7a7a3cf63e",
        "colab": {
          "base_uri": "https://localhost:8080/",
          "height": 1000
        }
      },
      "source": [
        "from keras import applications\n",
        "from keras import optimizers\n",
        "from keras.models import Sequential, Model \n",
        "from keras.layers import Dropout, Flatten, Dense, GlobalAveragePooling2D\n",
        "from keras import backend as k \n",
        "from keras.callbacks import ModelCheckpoint, EarlyStopping\n",
        "from contextlib import redirect_stdout\n",
        "\n",
        "img_width, img_height = 75, 75 # Dimensoes das imagens de entrada\n",
        "\n",
        "\n",
        "model = applications.xception.Xception(weights = 'imagenet', include_top=False, input_shape = (img_width, img_height, 3))\n",
        "\n",
        "# \"Congelando\" os 10 primeiros layers\n",
        "#for layer in model.layers[:10]:\n",
        "#    layer.trainable = False\n",
        "\n",
        "\n",
        "# Adicionando layers FC \n",
        "x = model.output\n",
        "x = Flatten()(x)\n",
        "x = Dense(1024, activation=\"relu\")(x)\n",
        "x = Dropout(0.5)(x)\n",
        "predictions = Dense(1, activation=\"sigmoid\")(x)\n",
        "\n",
        "# Criando o modelo final \n",
        "model_final = Model(input = model.input, output = predictions)\n",
        "\n",
        "# Resumo da Arquitetura do modelo\n",
        "print(model_final.summary())\n",
        "\n",
        "# Salva o .summary() do modelo em um arquivo texto\n",
        "with open('Xception_summary.txt', 'w') as f:\n",
        "    with redirect_stdout(f):\n",
        "        model_final.summary()\n",
        "\n",
        "# Compilando o modelo final\n",
        "model_final.compile(loss = \"binary_crossentropy\", optimizer = optimizers.Adam(lr=INIT_LR, decay=INIT_LR / NUM_EPOCHS), metrics=[\"accuracy\"])"
      ],
      "execution_count": 7,
      "outputs": [
        {
          "output_type": "stream",
          "text": [
            "WARNING: Logging before flag parsing goes to stderr.\n",
            "W0731 23:42:11.541077 140343710115712 deprecation_wrapper.py:119] From /usr/local/lib/python3.6/dist-packages/keras/backend/tensorflow_backend.py:74: The name tf.get_default_graph is deprecated. Please use tf.compat.v1.get_default_graph instead.\n",
            "\n",
            "W0731 23:42:11.616895 140343710115712 deprecation_wrapper.py:119] From /usr/local/lib/python3.6/dist-packages/keras/backend/tensorflow_backend.py:517: The name tf.placeholder is deprecated. Please use tf.compat.v1.placeholder instead.\n",
            "\n",
            "W0731 23:42:11.640299 140343710115712 deprecation_wrapper.py:119] From /usr/local/lib/python3.6/dist-packages/keras/backend/tensorflow_backend.py:4138: The name tf.random_uniform is deprecated. Please use tf.random.uniform instead.\n",
            "\n",
            "W0731 23:42:11.705992 140343710115712 deprecation_wrapper.py:119] From /usr/local/lib/python3.6/dist-packages/keras/backend/tensorflow_backend.py:174: The name tf.get_default_session is deprecated. Please use tf.compat.v1.get_default_session instead.\n",
            "\n",
            "W0731 23:42:11.707362 140343710115712 deprecation_wrapper.py:119] From /usr/local/lib/python3.6/dist-packages/keras/backend/tensorflow_backend.py:181: The name tf.ConfigProto is deprecated. Please use tf.compat.v1.ConfigProto instead.\n",
            "\n",
            "W0731 23:42:15.456646 140343710115712 deprecation_wrapper.py:119] From /usr/local/lib/python3.6/dist-packages/keras/backend/tensorflow_backend.py:1834: The name tf.nn.fused_batch_norm is deprecated. Please use tf.compat.v1.nn.fused_batch_norm instead.\n",
            "\n",
            "W0731 23:42:16.006954 140343710115712 deprecation_wrapper.py:119] From /usr/local/lib/python3.6/dist-packages/keras/backend/tensorflow_backend.py:3976: The name tf.nn.max_pool is deprecated. Please use tf.nn.max_pool2d instead.\n",
            "\n"
          ],
          "name": "stderr"
        },
        {
          "output_type": "stream",
          "text": [
            "Downloading data from https://github.com/fchollet/deep-learning-models/releases/download/v0.4/xception_weights_tf_dim_ordering_tf_kernels_notop.h5\n",
            "83689472/83683744 [==============================] - 11s 0us/step\n"
          ],
          "name": "stdout"
        },
        {
          "output_type": "stream",
          "text": [
            "W0731 23:42:35.063285 140343710115712 deprecation.py:506] From /usr/local/lib/python3.6/dist-packages/keras/backend/tensorflow_backend.py:3445: calling dropout (from tensorflow.python.ops.nn_ops) with keep_prob is deprecated and will be removed in a future version.\n",
            "Instructions for updating:\n",
            "Please use `rate` instead of `keep_prob`. Rate should be set to `rate = 1 - keep_prob`.\n",
            "/usr/local/lib/python3.6/dist-packages/ipykernel_launcher.py:27: UserWarning: Update your `Model` call to the Keras 2 API: `Model(inputs=Tensor(\"in..., outputs=Tensor(\"de...)`\n",
            "W0731 23:42:35.219017 140343710115712 deprecation_wrapper.py:119] From /usr/local/lib/python3.6/dist-packages/keras/optimizers.py:790: The name tf.train.Optimizer is deprecated. Please use tf.compat.v1.train.Optimizer instead.\n",
            "\n",
            "W0731 23:42:35.235427 140343710115712 deprecation.py:323] From /usr/local/lib/python3.6/dist-packages/tensorflow/python/ops/nn_impl.py:180: add_dispatch_support.<locals>.wrapper (from tensorflow.python.ops.array_ops) is deprecated and will be removed in a future version.\n",
            "Instructions for updating:\n",
            "Use tf.where in 2.0, which has the same broadcast rule as np.where\n"
          ],
          "name": "stderr"
        },
        {
          "output_type": "stream",
          "text": [
            "__________________________________________________________________________________________________\n",
            "Layer (type)                    Output Shape         Param #     Connected to                     \n",
            "==================================================================================================\n",
            "input_1 (InputLayer)            (None, 75, 75, 3)    0                                            \n",
            "__________________________________________________________________________________________________\n",
            "block1_conv1 (Conv2D)           (None, 37, 37, 32)   864         input_1[0][0]                    \n",
            "__________________________________________________________________________________________________\n",
            "block1_conv1_bn (BatchNormaliza (None, 37, 37, 32)   128         block1_conv1[0][0]               \n",
            "__________________________________________________________________________________________________\n",
            "block1_conv1_act (Activation)   (None, 37, 37, 32)   0           block1_conv1_bn[0][0]            \n",
            "__________________________________________________________________________________________________\n",
            "block1_conv2 (Conv2D)           (None, 35, 35, 64)   18432       block1_conv1_act[0][0]           \n",
            "__________________________________________________________________________________________________\n",
            "block1_conv2_bn (BatchNormaliza (None, 35, 35, 64)   256         block1_conv2[0][0]               \n",
            "__________________________________________________________________________________________________\n",
            "block1_conv2_act (Activation)   (None, 35, 35, 64)   0           block1_conv2_bn[0][0]            \n",
            "__________________________________________________________________________________________________\n",
            "block2_sepconv1 (SeparableConv2 (None, 35, 35, 128)  8768        block1_conv2_act[0][0]           \n",
            "__________________________________________________________________________________________________\n",
            "block2_sepconv1_bn (BatchNormal (None, 35, 35, 128)  512         block2_sepconv1[0][0]            \n",
            "__________________________________________________________________________________________________\n",
            "block2_sepconv2_act (Activation (None, 35, 35, 128)  0           block2_sepconv1_bn[0][0]         \n",
            "__________________________________________________________________________________________________\n",
            "block2_sepconv2 (SeparableConv2 (None, 35, 35, 128)  17536       block2_sepconv2_act[0][0]        \n",
            "__________________________________________________________________________________________________\n",
            "block2_sepconv2_bn (BatchNormal (None, 35, 35, 128)  512         block2_sepconv2[0][0]            \n",
            "__________________________________________________________________________________________________\n",
            "conv2d_1 (Conv2D)               (None, 18, 18, 128)  8192        block1_conv2_act[0][0]           \n",
            "__________________________________________________________________________________________________\n",
            "block2_pool (MaxPooling2D)      (None, 18, 18, 128)  0           block2_sepconv2_bn[0][0]         \n",
            "__________________________________________________________________________________________________\n",
            "batch_normalization_1 (BatchNor (None, 18, 18, 128)  512         conv2d_1[0][0]                   \n",
            "__________________________________________________________________________________________________\n",
            "add_1 (Add)                     (None, 18, 18, 128)  0           block2_pool[0][0]                \n",
            "                                                                 batch_normalization_1[0][0]      \n",
            "__________________________________________________________________________________________________\n",
            "block3_sepconv1_act (Activation (None, 18, 18, 128)  0           add_1[0][0]                      \n",
            "__________________________________________________________________________________________________\n",
            "block3_sepconv1 (SeparableConv2 (None, 18, 18, 256)  33920       block3_sepconv1_act[0][0]        \n",
            "__________________________________________________________________________________________________\n",
            "block3_sepconv1_bn (BatchNormal (None, 18, 18, 256)  1024        block3_sepconv1[0][0]            \n",
            "__________________________________________________________________________________________________\n",
            "block3_sepconv2_act (Activation (None, 18, 18, 256)  0           block3_sepconv1_bn[0][0]         \n",
            "__________________________________________________________________________________________________\n",
            "block3_sepconv2 (SeparableConv2 (None, 18, 18, 256)  67840       block3_sepconv2_act[0][0]        \n",
            "__________________________________________________________________________________________________\n",
            "block3_sepconv2_bn (BatchNormal (None, 18, 18, 256)  1024        block3_sepconv2[0][0]            \n",
            "__________________________________________________________________________________________________\n",
            "conv2d_2 (Conv2D)               (None, 9, 9, 256)    32768       add_1[0][0]                      \n",
            "__________________________________________________________________________________________________\n",
            "block3_pool (MaxPooling2D)      (None, 9, 9, 256)    0           block3_sepconv2_bn[0][0]         \n",
            "__________________________________________________________________________________________________\n",
            "batch_normalization_2 (BatchNor (None, 9, 9, 256)    1024        conv2d_2[0][0]                   \n",
            "__________________________________________________________________________________________________\n",
            "add_2 (Add)                     (None, 9, 9, 256)    0           block3_pool[0][0]                \n",
            "                                                                 batch_normalization_2[0][0]      \n",
            "__________________________________________________________________________________________________\n",
            "block4_sepconv1_act (Activation (None, 9, 9, 256)    0           add_2[0][0]                      \n",
            "__________________________________________________________________________________________________\n",
            "block4_sepconv1 (SeparableConv2 (None, 9, 9, 728)    188672      block4_sepconv1_act[0][0]        \n",
            "__________________________________________________________________________________________________\n",
            "block4_sepconv1_bn (BatchNormal (None, 9, 9, 728)    2912        block4_sepconv1[0][0]            \n",
            "__________________________________________________________________________________________________\n",
            "block4_sepconv2_act (Activation (None, 9, 9, 728)    0           block4_sepconv1_bn[0][0]         \n",
            "__________________________________________________________________________________________________\n",
            "block4_sepconv2 (SeparableConv2 (None, 9, 9, 728)    536536      block4_sepconv2_act[0][0]        \n",
            "__________________________________________________________________________________________________\n",
            "block4_sepconv2_bn (BatchNormal (None, 9, 9, 728)    2912        block4_sepconv2[0][0]            \n",
            "__________________________________________________________________________________________________\n",
            "conv2d_3 (Conv2D)               (None, 5, 5, 728)    186368      add_2[0][0]                      \n",
            "__________________________________________________________________________________________________\n",
            "block4_pool (MaxPooling2D)      (None, 5, 5, 728)    0           block4_sepconv2_bn[0][0]         \n",
            "__________________________________________________________________________________________________\n",
            "batch_normalization_3 (BatchNor (None, 5, 5, 728)    2912        conv2d_3[0][0]                   \n",
            "__________________________________________________________________________________________________\n",
            "add_3 (Add)                     (None, 5, 5, 728)    0           block4_pool[0][0]                \n",
            "                                                                 batch_normalization_3[0][0]      \n",
            "__________________________________________________________________________________________________\n",
            "block5_sepconv1_act (Activation (None, 5, 5, 728)    0           add_3[0][0]                      \n",
            "__________________________________________________________________________________________________\n",
            "block5_sepconv1 (SeparableConv2 (None, 5, 5, 728)    536536      block5_sepconv1_act[0][0]        \n",
            "__________________________________________________________________________________________________\n",
            "block5_sepconv1_bn (BatchNormal (None, 5, 5, 728)    2912        block5_sepconv1[0][0]            \n",
            "__________________________________________________________________________________________________\n",
            "block5_sepconv2_act (Activation (None, 5, 5, 728)    0           block5_sepconv1_bn[0][0]         \n",
            "__________________________________________________________________________________________________\n",
            "block5_sepconv2 (SeparableConv2 (None, 5, 5, 728)    536536      block5_sepconv2_act[0][0]        \n",
            "__________________________________________________________________________________________________\n",
            "block5_sepconv2_bn (BatchNormal (None, 5, 5, 728)    2912        block5_sepconv2[0][0]            \n",
            "__________________________________________________________________________________________________\n",
            "block5_sepconv3_act (Activation (None, 5, 5, 728)    0           block5_sepconv2_bn[0][0]         \n",
            "__________________________________________________________________________________________________\n",
            "block5_sepconv3 (SeparableConv2 (None, 5, 5, 728)    536536      block5_sepconv3_act[0][0]        \n",
            "__________________________________________________________________________________________________\n",
            "block5_sepconv3_bn (BatchNormal (None, 5, 5, 728)    2912        block5_sepconv3[0][0]            \n",
            "__________________________________________________________________________________________________\n",
            "add_4 (Add)                     (None, 5, 5, 728)    0           block5_sepconv3_bn[0][0]         \n",
            "                                                                 add_3[0][0]                      \n",
            "__________________________________________________________________________________________________\n",
            "block6_sepconv1_act (Activation (None, 5, 5, 728)    0           add_4[0][0]                      \n",
            "__________________________________________________________________________________________________\n",
            "block6_sepconv1 (SeparableConv2 (None, 5, 5, 728)    536536      block6_sepconv1_act[0][0]        \n",
            "__________________________________________________________________________________________________\n",
            "block6_sepconv1_bn (BatchNormal (None, 5, 5, 728)    2912        block6_sepconv1[0][0]            \n",
            "__________________________________________________________________________________________________\n",
            "block6_sepconv2_act (Activation (None, 5, 5, 728)    0           block6_sepconv1_bn[0][0]         \n",
            "__________________________________________________________________________________________________\n",
            "block6_sepconv2 (SeparableConv2 (None, 5, 5, 728)    536536      block6_sepconv2_act[0][0]        \n",
            "__________________________________________________________________________________________________\n",
            "block6_sepconv2_bn (BatchNormal (None, 5, 5, 728)    2912        block6_sepconv2[0][0]            \n",
            "__________________________________________________________________________________________________\n",
            "block6_sepconv3_act (Activation (None, 5, 5, 728)    0           block6_sepconv2_bn[0][0]         \n",
            "__________________________________________________________________________________________________\n",
            "block6_sepconv3 (SeparableConv2 (None, 5, 5, 728)    536536      block6_sepconv3_act[0][0]        \n",
            "__________________________________________________________________________________________________\n",
            "block6_sepconv3_bn (BatchNormal (None, 5, 5, 728)    2912        block6_sepconv3[0][0]            \n",
            "__________________________________________________________________________________________________\n",
            "add_5 (Add)                     (None, 5, 5, 728)    0           block6_sepconv3_bn[0][0]         \n",
            "                                                                 add_4[0][0]                      \n",
            "__________________________________________________________________________________________________\n",
            "block7_sepconv1_act (Activation (None, 5, 5, 728)    0           add_5[0][0]                      \n",
            "__________________________________________________________________________________________________\n",
            "block7_sepconv1 (SeparableConv2 (None, 5, 5, 728)    536536      block7_sepconv1_act[0][0]        \n",
            "__________________________________________________________________________________________________\n",
            "block7_sepconv1_bn (BatchNormal (None, 5, 5, 728)    2912        block7_sepconv1[0][0]            \n",
            "__________________________________________________________________________________________________\n",
            "block7_sepconv2_act (Activation (None, 5, 5, 728)    0           block7_sepconv1_bn[0][0]         \n",
            "__________________________________________________________________________________________________\n",
            "block7_sepconv2 (SeparableConv2 (None, 5, 5, 728)    536536      block7_sepconv2_act[0][0]        \n",
            "__________________________________________________________________________________________________\n",
            "block7_sepconv2_bn (BatchNormal (None, 5, 5, 728)    2912        block7_sepconv2[0][0]            \n",
            "__________________________________________________________________________________________________\n",
            "block7_sepconv3_act (Activation (None, 5, 5, 728)    0           block7_sepconv2_bn[0][0]         \n",
            "__________________________________________________________________________________________________\n",
            "block7_sepconv3 (SeparableConv2 (None, 5, 5, 728)    536536      block7_sepconv3_act[0][0]        \n",
            "__________________________________________________________________________________________________\n",
            "block7_sepconv3_bn (BatchNormal (None, 5, 5, 728)    2912        block7_sepconv3[0][0]            \n",
            "__________________________________________________________________________________________________\n",
            "add_6 (Add)                     (None, 5, 5, 728)    0           block7_sepconv3_bn[0][0]         \n",
            "                                                                 add_5[0][0]                      \n",
            "__________________________________________________________________________________________________\n",
            "block8_sepconv1_act (Activation (None, 5, 5, 728)    0           add_6[0][0]                      \n",
            "__________________________________________________________________________________________________\n",
            "block8_sepconv1 (SeparableConv2 (None, 5, 5, 728)    536536      block8_sepconv1_act[0][0]        \n",
            "__________________________________________________________________________________________________\n",
            "block8_sepconv1_bn (BatchNormal (None, 5, 5, 728)    2912        block8_sepconv1[0][0]            \n",
            "__________________________________________________________________________________________________\n",
            "block8_sepconv2_act (Activation (None, 5, 5, 728)    0           block8_sepconv1_bn[0][0]         \n",
            "__________________________________________________________________________________________________\n",
            "block8_sepconv2 (SeparableConv2 (None, 5, 5, 728)    536536      block8_sepconv2_act[0][0]        \n",
            "__________________________________________________________________________________________________\n",
            "block8_sepconv2_bn (BatchNormal (None, 5, 5, 728)    2912        block8_sepconv2[0][0]            \n",
            "__________________________________________________________________________________________________\n",
            "block8_sepconv3_act (Activation (None, 5, 5, 728)    0           block8_sepconv2_bn[0][0]         \n",
            "__________________________________________________________________________________________________\n",
            "block8_sepconv3 (SeparableConv2 (None, 5, 5, 728)    536536      block8_sepconv3_act[0][0]        \n",
            "__________________________________________________________________________________________________\n",
            "block8_sepconv3_bn (BatchNormal (None, 5, 5, 728)    2912        block8_sepconv3[0][0]            \n",
            "__________________________________________________________________________________________________\n",
            "add_7 (Add)                     (None, 5, 5, 728)    0           block8_sepconv3_bn[0][0]         \n",
            "                                                                 add_6[0][0]                      \n",
            "__________________________________________________________________________________________________\n",
            "block9_sepconv1_act (Activation (None, 5, 5, 728)    0           add_7[0][0]                      \n",
            "__________________________________________________________________________________________________\n",
            "block9_sepconv1 (SeparableConv2 (None, 5, 5, 728)    536536      block9_sepconv1_act[0][0]        \n",
            "__________________________________________________________________________________________________\n",
            "block9_sepconv1_bn (BatchNormal (None, 5, 5, 728)    2912        block9_sepconv1[0][0]            \n",
            "__________________________________________________________________________________________________\n",
            "block9_sepconv2_act (Activation (None, 5, 5, 728)    0           block9_sepconv1_bn[0][0]         \n",
            "__________________________________________________________________________________________________\n",
            "block9_sepconv2 (SeparableConv2 (None, 5, 5, 728)    536536      block9_sepconv2_act[0][0]        \n",
            "__________________________________________________________________________________________________\n",
            "block9_sepconv2_bn (BatchNormal (None, 5, 5, 728)    2912        block9_sepconv2[0][0]            \n",
            "__________________________________________________________________________________________________\n",
            "block9_sepconv3_act (Activation (None, 5, 5, 728)    0           block9_sepconv2_bn[0][0]         \n",
            "__________________________________________________________________________________________________\n",
            "block9_sepconv3 (SeparableConv2 (None, 5, 5, 728)    536536      block9_sepconv3_act[0][0]        \n",
            "__________________________________________________________________________________________________\n",
            "block9_sepconv3_bn (BatchNormal (None, 5, 5, 728)    2912        block9_sepconv3[0][0]            \n",
            "__________________________________________________________________________________________________\n",
            "add_8 (Add)                     (None, 5, 5, 728)    0           block9_sepconv3_bn[0][0]         \n",
            "                                                                 add_7[0][0]                      \n",
            "__________________________________________________________________________________________________\n",
            "block10_sepconv1_act (Activatio (None, 5, 5, 728)    0           add_8[0][0]                      \n",
            "__________________________________________________________________________________________________\n",
            "block10_sepconv1 (SeparableConv (None, 5, 5, 728)    536536      block10_sepconv1_act[0][0]       \n",
            "__________________________________________________________________________________________________\n",
            "block10_sepconv1_bn (BatchNorma (None, 5, 5, 728)    2912        block10_sepconv1[0][0]           \n",
            "__________________________________________________________________________________________________\n",
            "block10_sepconv2_act (Activatio (None, 5, 5, 728)    0           block10_sepconv1_bn[0][0]        \n",
            "__________________________________________________________________________________________________\n",
            "block10_sepconv2 (SeparableConv (None, 5, 5, 728)    536536      block10_sepconv2_act[0][0]       \n",
            "__________________________________________________________________________________________________\n",
            "block10_sepconv2_bn (BatchNorma (None, 5, 5, 728)    2912        block10_sepconv2[0][0]           \n",
            "__________________________________________________________________________________________________\n",
            "block10_sepconv3_act (Activatio (None, 5, 5, 728)    0           block10_sepconv2_bn[0][0]        \n",
            "__________________________________________________________________________________________________\n",
            "block10_sepconv3 (SeparableConv (None, 5, 5, 728)    536536      block10_sepconv3_act[0][0]       \n",
            "__________________________________________________________________________________________________\n",
            "block10_sepconv3_bn (BatchNorma (None, 5, 5, 728)    2912        block10_sepconv3[0][0]           \n",
            "__________________________________________________________________________________________________\n",
            "add_9 (Add)                     (None, 5, 5, 728)    0           block10_sepconv3_bn[0][0]        \n",
            "                                                                 add_8[0][0]                      \n",
            "__________________________________________________________________________________________________\n",
            "block11_sepconv1_act (Activatio (None, 5, 5, 728)    0           add_9[0][0]                      \n",
            "__________________________________________________________________________________________________\n",
            "block11_sepconv1 (SeparableConv (None, 5, 5, 728)    536536      block11_sepconv1_act[0][0]       \n",
            "__________________________________________________________________________________________________\n",
            "block11_sepconv1_bn (BatchNorma (None, 5, 5, 728)    2912        block11_sepconv1[0][0]           \n",
            "__________________________________________________________________________________________________\n",
            "block11_sepconv2_act (Activatio (None, 5, 5, 728)    0           block11_sepconv1_bn[0][0]        \n",
            "__________________________________________________________________________________________________\n",
            "block11_sepconv2 (SeparableConv (None, 5, 5, 728)    536536      block11_sepconv2_act[0][0]       \n",
            "__________________________________________________________________________________________________\n",
            "block11_sepconv2_bn (BatchNorma (None, 5, 5, 728)    2912        block11_sepconv2[0][0]           \n",
            "__________________________________________________________________________________________________\n",
            "block11_sepconv3_act (Activatio (None, 5, 5, 728)    0           block11_sepconv2_bn[0][0]        \n",
            "__________________________________________________________________________________________________\n",
            "block11_sepconv3 (SeparableConv (None, 5, 5, 728)    536536      block11_sepconv3_act[0][0]       \n",
            "__________________________________________________________________________________________________\n",
            "block11_sepconv3_bn (BatchNorma (None, 5, 5, 728)    2912        block11_sepconv3[0][0]           \n",
            "__________________________________________________________________________________________________\n",
            "add_10 (Add)                    (None, 5, 5, 728)    0           block11_sepconv3_bn[0][0]        \n",
            "                                                                 add_9[0][0]                      \n",
            "__________________________________________________________________________________________________\n",
            "block12_sepconv1_act (Activatio (None, 5, 5, 728)    0           add_10[0][0]                     \n",
            "__________________________________________________________________________________________________\n",
            "block12_sepconv1 (SeparableConv (None, 5, 5, 728)    536536      block12_sepconv1_act[0][0]       \n",
            "__________________________________________________________________________________________________\n",
            "block12_sepconv1_bn (BatchNorma (None, 5, 5, 728)    2912        block12_sepconv1[0][0]           \n",
            "__________________________________________________________________________________________________\n",
            "block12_sepconv2_act (Activatio (None, 5, 5, 728)    0           block12_sepconv1_bn[0][0]        \n",
            "__________________________________________________________________________________________________\n",
            "block12_sepconv2 (SeparableConv (None, 5, 5, 728)    536536      block12_sepconv2_act[0][0]       \n",
            "__________________________________________________________________________________________________\n",
            "block12_sepconv2_bn (BatchNorma (None, 5, 5, 728)    2912        block12_sepconv2[0][0]           \n",
            "__________________________________________________________________________________________________\n",
            "block12_sepconv3_act (Activatio (None, 5, 5, 728)    0           block12_sepconv2_bn[0][0]        \n",
            "__________________________________________________________________________________________________\n",
            "block12_sepconv3 (SeparableConv (None, 5, 5, 728)    536536      block12_sepconv3_act[0][0]       \n",
            "__________________________________________________________________________________________________\n",
            "block12_sepconv3_bn (BatchNorma (None, 5, 5, 728)    2912        block12_sepconv3[0][0]           \n",
            "__________________________________________________________________________________________________\n",
            "add_11 (Add)                    (None, 5, 5, 728)    0           block12_sepconv3_bn[0][0]        \n",
            "                                                                 add_10[0][0]                     \n",
            "__________________________________________________________________________________________________\n",
            "block13_sepconv1_act (Activatio (None, 5, 5, 728)    0           add_11[0][0]                     \n",
            "__________________________________________________________________________________________________\n",
            "block13_sepconv1 (SeparableConv (None, 5, 5, 728)    536536      block13_sepconv1_act[0][0]       \n",
            "__________________________________________________________________________________________________\n",
            "block13_sepconv1_bn (BatchNorma (None, 5, 5, 728)    2912        block13_sepconv1[0][0]           \n",
            "__________________________________________________________________________________________________\n",
            "block13_sepconv2_act (Activatio (None, 5, 5, 728)    0           block13_sepconv1_bn[0][0]        \n",
            "__________________________________________________________________________________________________\n",
            "block13_sepconv2 (SeparableConv (None, 5, 5, 1024)   752024      block13_sepconv2_act[0][0]       \n",
            "__________________________________________________________________________________________________\n",
            "block13_sepconv2_bn (BatchNorma (None, 5, 5, 1024)   4096        block13_sepconv2[0][0]           \n",
            "__________________________________________________________________________________________________\n",
            "conv2d_4 (Conv2D)               (None, 3, 3, 1024)   745472      add_11[0][0]                     \n",
            "__________________________________________________________________________________________________\n",
            "block13_pool (MaxPooling2D)     (None, 3, 3, 1024)   0           block13_sepconv2_bn[0][0]        \n",
            "__________________________________________________________________________________________________\n",
            "batch_normalization_4 (BatchNor (None, 3, 3, 1024)   4096        conv2d_4[0][0]                   \n",
            "__________________________________________________________________________________________________\n",
            "add_12 (Add)                    (None, 3, 3, 1024)   0           block13_pool[0][0]               \n",
            "                                                                 batch_normalization_4[0][0]      \n",
            "__________________________________________________________________________________________________\n",
            "block14_sepconv1 (SeparableConv (None, 3, 3, 1536)   1582080     add_12[0][0]                     \n",
            "__________________________________________________________________________________________________\n",
            "block14_sepconv1_bn (BatchNorma (None, 3, 3, 1536)   6144        block14_sepconv1[0][0]           \n",
            "__________________________________________________________________________________________________\n",
            "block14_sepconv1_act (Activatio (None, 3, 3, 1536)   0           block14_sepconv1_bn[0][0]        \n",
            "__________________________________________________________________________________________________\n",
            "block14_sepconv2 (SeparableConv (None, 3, 3, 2048)   3159552     block14_sepconv1_act[0][0]       \n",
            "__________________________________________________________________________________________________\n",
            "block14_sepconv2_bn (BatchNorma (None, 3, 3, 2048)   8192        block14_sepconv2[0][0]           \n",
            "__________________________________________________________________________________________________\n",
            "block14_sepconv2_act (Activatio (None, 3, 3, 2048)   0           block14_sepconv2_bn[0][0]        \n",
            "__________________________________________________________________________________________________\n",
            "flatten_1 (Flatten)             (None, 18432)        0           block14_sepconv2_act[0][0]       \n",
            "__________________________________________________________________________________________________\n",
            "dense_1 (Dense)                 (None, 1024)         18875392    flatten_1[0][0]                  \n",
            "__________________________________________________________________________________________________\n",
            "dropout_1 (Dropout)             (None, 1024)         0           dense_1[0][0]                    \n",
            "__________________________________________________________________________________________________\n",
            "dense_2 (Dense)                 (None, 1)            1025        dropout_1[0][0]                  \n",
            "==================================================================================================\n",
            "Total params: 39,737,897\n",
            "Trainable params: 39,683,369\n",
            "Non-trainable params: 54,528\n",
            "__________________________________________________________________________________________________\n",
            "None\n"
          ],
          "name": "stdout"
        }
      ]
    },
    {
      "cell_type": "markdown",
      "metadata": {
        "id": "QGUpVlA8BU0d",
        "colab_type": "text"
      },
      "source": [
        "## Definindo callbacks para monitorar e salvar o modelo:"
      ]
    },
    {
      "cell_type": "code",
      "metadata": {
        "id": "7CsWZkhsBVRw",
        "colab_type": "code",
        "colab": {}
      },
      "source": [
        "checkpoint = ModelCheckpoint(\"Xception_1.h5\", monitor='val_acc', verbose=1, save_best_only=True, save_weights_only=False, mode='auto', period=1)\n",
        "early = EarlyStopping(monitor='val_acc', min_delta=0, patience=5, verbose=1, mode='auto')"
      ],
      "execution_count": 0,
      "outputs": []
    },
    {
      "cell_type": "markdown",
      "metadata": {
        "id": "Mm8jt8YUB2oH",
        "colab_type": "text"
      },
      "source": [
        "## Treinando o modelo e realizando predições no conjunto de teste:"
      ]
    },
    {
      "cell_type": "code",
      "metadata": {
        "id": "1dtcosa6B_x5",
        "colab_type": "code",
        "outputId": "2e8dd1ee-4e1d-4f20-bd13-7a7d00334996",
        "colab": {
          "base_uri": "https://localhost:8080/",
          "height": 787
        }
      },
      "source": [
        "print(\"[START] Iniciando treinamento...\\n\")\n",
        "H = model_final.fit_generator(\n",
        "\ttrainGen,\n",
        "\tsteps_per_epoch=NUM_TRAIN_IMAGES // BS,\n",
        "\tvalidation_data=testGen,\n",
        "\tvalidation_steps=NUM_TEST_IMAGES // BS,\n",
        "\tepochs=NUM_EPOCHS,\n",
        "    callbacks = [checkpoint, early],\n",
        "    class_weight=classWeight)"
      ],
      "execution_count": 9,
      "outputs": [
        {
          "output_type": "stream",
          "text": [
            "[START] Iniciando treinamento...\n",
            "\n",
            "Epoch 1/10\n",
            "2011/2011 [==============================] - 1737s 864ms/step - loss: 0.2800 - acc: 0.8819 - val_loss: 0.3120 - val_acc: 0.8706\n",
            "\n",
            "Epoch 00001: val_acc improved from -inf to 0.87059, saving model to Xception_1.h5\n",
            "Epoch 2/10\n",
            "2011/2011 [==============================] - 1705s 848ms/step - loss: 0.2364 - acc: 0.9019 - val_loss: 0.2783 - val_acc: 0.8875\n",
            "\n",
            "Epoch 00002: val_acc improved from 0.87059 to 0.88752, saving model to Xception_1.h5\n",
            "Epoch 3/10\n",
            "2011/2011 [==============================] - 1700s 845ms/step - loss: 0.2207 - acc: 0.9091 - val_loss: 0.2653 - val_acc: 0.8899\n",
            "\n",
            "Epoch 00003: val_acc improved from 0.88752 to 0.88992, saving model to Xception_1.h5\n",
            "Epoch 4/10\n",
            "2011/2011 [==============================] - 1697s 844ms/step - loss: 0.2076 - acc: 0.9143 - val_loss: 0.2660 - val_acc: 0.8955\n",
            "\n",
            "Epoch 00004: val_acc improved from 0.88992 to 0.89553, saving model to Xception_1.h5\n",
            "Epoch 5/10\n",
            "2011/2011 [==============================] - 1699s 845ms/step - loss: 0.1960 - acc: 0.9189 - val_loss: 0.2677 - val_acc: 0.8936\n",
            "\n",
            "Epoch 00005: val_acc did not improve from 0.89553\n",
            "Epoch 6/10\n",
            "2011/2011 [==============================] - 1715s 853ms/step - loss: 0.1855 - acc: 0.9238 - val_loss: 0.2589 - val_acc: 0.9004\n",
            "\n",
            "Epoch 00006: val_acc improved from 0.89553 to 0.90044, saving model to Xception_1.h5\n",
            "Epoch 7/10\n",
            "2011/2011 [==============================] - 1702s 846ms/step - loss: 0.1764 - acc: 0.9276 - val_loss: 0.2586 - val_acc: 0.8957\n",
            "\n",
            "Epoch 00007: val_acc did not improve from 0.90044\n",
            "Epoch 8/10\n",
            "2011/2011 [==============================] - 1699s 845ms/step - loss: 0.1664 - acc: 0.9316 - val_loss: 0.2607 - val_acc: 0.9005\n",
            "\n",
            "Epoch 00008: val_acc improved from 0.90044 to 0.90054, saving model to Xception_1.h5\n",
            "Epoch 9/10\n",
            "2011/2011 [==============================] - 1725s 858ms/step - loss: 0.1584 - acc: 0.9351 - val_loss: 0.2592 - val_acc: 0.9032\n",
            "\n",
            "Epoch 00009: val_acc improved from 0.90054 to 0.90325, saving model to Xception_1.h5\n",
            "Epoch 10/10\n",
            "2011/2011 [==============================] - 1730s 860ms/step - loss: 0.1487 - acc: 0.9395 - val_loss: 0.2645 - val_acc: 0.9034\n",
            "\n",
            "Epoch 00010: val_acc improved from 0.90325 to 0.90345, saving model to Xception_1.h5\n"
          ],
          "name": "stdout"
        }
      ]
    },
    {
      "cell_type": "markdown",
      "metadata": {
        "id": "u3qym8e84GsT",
        "colab_type": "text"
      },
      "source": [
        "## Avaliando o melhor modelo encontrado no processo de treinamento:"
      ]
    },
    {
      "cell_type": "code",
      "metadata": {
        "id": "JI8oag1XySfv",
        "colab_type": "code",
        "colab": {}
      },
      "source": [
        "from keras.models import load_model\n",
        "\n",
        "# Re-inicializa o gerador de teste para avaliacao\n",
        "testGen = csv_image_generator(TEST_CSV, BS,\n",
        "\tmode=\"eval\", aug=None)\n",
        "\n",
        "# Carrega o melhor modelo\n",
        "best_model = load_model('Xception_1.h5')\n",
        "\n",
        "# Realiza predicoes no conjunto de teste\n",
        "predIdxs = best_model.predict_generator(testGen,\n",
        "\tsteps=(NUM_TEST_IMAGES // BS) + 1)"
      ],
      "execution_count": 0,
      "outputs": []
    },
    {
      "cell_type": "markdown",
      "metadata": {
        "id": "6buRGhOXCZKO",
        "colab_type": "text"
      },
      "source": [
        "## Plot da curva de aprendizado  e métricas de classificação:"
      ]
    },
    {
      "cell_type": "code",
      "metadata": {
        "id": "ixHa7f7hCtna",
        "colab_type": "code",
        "colab": {}
      },
      "source": [
        "def get_label(proba):\n",
        "    \"\"\" Função que transforma probabilidades em classe predita de acordo com\n",
        "        limiar de 0.5 definido\"\"\"\n",
        "    if proba > 0.5:\n",
        "        return 1\n",
        "    else:\n",
        "        return 0\n",
        "\n",
        "predLabels = [get_label(i) for i in list(predIdxs)]"
      ],
      "execution_count": 0,
      "outputs": []
    },
    {
      "cell_type": "code",
      "metadata": {
        "id": "u4FG1NAMDHBm",
        "colab_type": "code",
        "outputId": "3a418f67-9823-452f-87a1-708fd60d8e42",
        "colab": {
          "base_uri": "https://localhost:8080/",
          "height": 303
        }
      },
      "source": [
        "from sklearn.metrics import balanced_accuracy_score, roc_auc_score\n",
        "print(\"[Métricas] Avaliando a rede no conjunto de Teste...\\n\")\n",
        "print(classification_report(testLabels,predLabels))\n",
        "print(\"\\n\")\n",
        "print(\"Acuracia Balanceada: {}\\n\".format(balanced_accuracy_score(testLabels,predLabels)))\n",
        "print(\"ROC-AUC: {}\".format(roc_auc_score(testLabels,predLabels)))"
      ],
      "execution_count": 12,
      "outputs": [
        {
          "output_type": "stream",
          "text": [
            "[Métricas] Avaliando a rede no conjunto de Teste...\n",
            "\n",
            "              precision    recall  f1-score   support\n",
            "\n",
            "           0       0.88      0.94      0.91      5000\n",
            "           1       0.93      0.87      0.90      5000\n",
            "\n",
            "    accuracy                           0.90     10000\n",
            "   macro avg       0.91      0.90      0.90     10000\n",
            "weighted avg       0.91      0.90      0.90     10000\n",
            "\n",
            "\n",
            "\n",
            "Acuracia Balanceada: 0.9036\n",
            "\n",
            "ROC-AUC: 0.9036\n"
          ],
          "name": "stdout"
        }
      ]
    },
    {
      "cell_type": "code",
      "metadata": {
        "id": "mB_U6hkiDUhm",
        "colab_type": "code",
        "colab": {}
      },
      "source": [
        "# Plot de Loss e Acuracia de treino e teste:\n",
        "N = 10\n",
        "plt.style.use(\"ggplot\")\n",
        "plt.figure(figsize=(15,10))\n",
        "plt.plot(np.arange(0, N), H.history[\"loss\"], label=\"train_loss\")\n",
        "plt.plot(np.arange(0, N), H.history[\"val_loss\"], label=\"test_loss\")\n",
        "plt.plot(np.arange(0, N), H.history[\"acc\"], label=\"train_acc\")\n",
        "plt.plot(np.arange(0, N), H.history[\"val_acc\"], label=\"test_acc\")\n",
        "plt.title(\"Loss e Acurácia no Conjunto de Treino e Teste\")\n",
        "plt.xlabel(\"Epoca #\")\n",
        "plt.ylabel(\"Loss/Acurácia\")\n",
        "plt.legend(loc=\"lower left\")\n",
        "plt.savefig(\"plot.png\")"
      ],
      "execution_count": 0,
      "outputs": []
    }
  ]
}